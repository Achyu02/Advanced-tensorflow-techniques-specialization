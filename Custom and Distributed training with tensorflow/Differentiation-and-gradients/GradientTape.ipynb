{
 "cells": [
  {
   "cell_type": "code",
   "execution_count": 1,
   "metadata": {},
   "outputs": [],
   "source": [
    "import tensorflow as tf\n",
    "import numpy as np\n",
    "import random"
   ]
  },
  {
   "cell_type": "code",
   "execution_count": 2,
   "metadata": {},
   "outputs": [],
   "source": [
    "x_train = np.array([-1.0, 0.0, 2.0, 3.0, 4.0, 5.0], dtype=float)\n",
    "y_train = np.array([-3.0, -1.0, 3.0, 5.0, 7.0, 9.0], dtype=float)\n",
    "\n",
    "w = tf.Variable(random.random(), trainable=True)\n",
    "b = tf.Variable(random.random(), trainable=True)"
   ]
  },
  {
   "cell_type": "code",
   "execution_count": 3,
   "metadata": {},
   "outputs": [],
   "source": [
    "## Loss function\n",
    "def simple_loss(y_true, y_pred):\n",
    "    return tf.abs(y_true-y_pred)\n",
    "\n",
    "learning_rate = 0.001"
   ]
  },
  {
   "cell_type": "code",
   "execution_count": 4,
   "metadata": {},
   "outputs": [],
   "source": [
    "def fit_data(x_true, y_true):\n",
    "    with tf.GradientTape(persistent=True) as tape:\n",
    "        y_pred = w*x_true+b\n",
    "        loss = simple_loss(y_true, y_pred)\n",
    "    \n",
    "    # calculate gradients\n",
    "    w_gradient = tape.gradient(loss, w)\n",
    "    b_gradient = tape.gradient(loss, b)\n",
    "    \n",
    "    # update gradients\n",
    "    w.assign_sub(learning_rate*w_gradient)\n",
    "    b.assign_sub(learning_rate*b_gradient)\n",
    "    "
   ]
  },
  {
   "cell_type": "code",
   "execution_count": 5,
   "metadata": {},
   "outputs": [
    {
     "name": "stdout",
     "output_type": "stream",
     "text": [
      "1.980434 x+ -0.92626023\n"
     ]
    }
   ],
   "source": [
    "for _ in range(500):\n",
    "    fit_data(x_train, y_train)\n",
    "#     print(w.numpy(), b.numpy())\n",
    "print(w.numpy(),'x+',b.numpy())"
   ]
  },
  {
   "cell_type": "code",
   "execution_count": 6,
   "metadata": {},
   "outputs": [
    {
     "name": "stdout",
     "output_type": "stream",
     "text": [
      "18.878079175949097\n"
     ]
    }
   ],
   "source": [
    "print(w.numpy()*10+b.numpy())"
   ]
  },
  {
   "cell_type": "code",
   "execution_count": null,
   "metadata": {},
   "outputs": [],
   "source": []
  }
 ],
 "metadata": {
  "kernelspec": {
   "display_name": "Python 3",
   "language": "python",
   "name": "python3"
  },
  "language_info": {
   "codemirror_mode": {
    "name": "ipython",
    "version": 3
   },
   "file_extension": ".py",
   "mimetype": "text/x-python",
   "name": "python",
   "nbconvert_exporter": "python",
   "pygments_lexer": "ipython3",
   "version": "3.7.9"
  }
 },
 "nbformat": 4,
 "nbformat_minor": 4
}
