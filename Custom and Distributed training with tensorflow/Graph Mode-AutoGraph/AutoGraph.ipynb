{
 "cells": [
  {
   "cell_type": "code",
   "execution_count": 1,
   "metadata": {},
   "outputs": [],
   "source": [
    "import tensorflow as tf\n",
    "import numpy as np"
   ]
  },
  {
   "cell_type": "code",
   "execution_count": 9,
   "metadata": {},
   "outputs": [
    {
     "name": "stdout",
     "output_type": "stream",
     "text": [
      "tf.Tensor([[4. 6.]], shape=(1, 2), dtype=float32)\n",
      "def tf__add(a, b):\n",
      "  do_return = False\n",
      "  retval_ = ag__.UndefinedReturnValue()\n",
      "  with ag__.FunctionScope('add', 'add_scope', ag__.ConversionOptions(recursive=True, user_requested=True, optional_features=(), internal_convert_user_code=True)) as add_scope:\n",
      "    do_return = True\n",
      "    retval_ = add_scope.mark_return_value(a + b)\n",
      "  do_return,\n",
      "  return ag__.retval(retval_)\n",
      "\n"
     ]
    }
   ],
   "source": [
    "@tf.function\n",
    "def add(a, b):\n",
    "    return a+b\n",
    "a = tf.Variable([[1, 2]], dtype=float)\n",
    "b = tf.Variable([[3, 4]], dtype=float)\n",
    "eager_mode_result = tf.add(a, b)\n",
    "print(eager_mode_result)\n",
    "print(tf.autograph.to_code(add.python_function))"
   ]
  },
  {
   "cell_type": "code",
   "execution_count": 10,
   "metadata": {},
   "outputs": [
    {
     "name": "stdout",
     "output_type": "stream",
     "text": [
      "def tf__f(x):\n",
      "  do_return = False\n",
      "  retval_ = ag__.UndefinedReturnValue()\n",
      "  with ag__.FunctionScope('f', 'f_scope', ag__.ConversionOptions(recursive=True, user_requested=True, optional_features=(), internal_convert_user_code=True)) as f_scope:\n",
      "\n",
      "    def get_state():\n",
      "      return ()\n",
      "\n",
      "    def set_state(_):\n",
      "      pass\n",
      "\n",
      "    def if_true():\n",
      "      x_1, = x,\n",
      "      x_1 = x_1 * x_1\n",
      "      return x_1\n",
      "\n",
      "    def if_false():\n",
      "      return x\n",
      "    cond = x > 0\n",
      "    x = ag__.if_stmt(cond, if_true, if_false, get_state, set_state, ('x',), ())\n",
      "    do_return = True\n",
      "    retval_ = f_scope.mark_return_value(x)\n",
      "  do_return,\n",
      "  return ag__.retval(retval_)\n",
      "\n"
     ]
    }
   ],
   "source": [
    "@tf.function\n",
    "def f(x):\n",
    "    if x>0:\n",
    "        x = x*x\n",
    "    return x\n",
    "print(tf.autograph.to_code(f.python_function))"
   ]
  },
  {
   "cell_type": "code",
   "execution_count": 11,
   "metadata": {},
   "outputs": [
    {
     "name": "stdout",
     "output_type": "stream",
     "text": [
      "def tf__fizz_buzz(x):\n",
      "  with ag__.FunctionScope('fizz_buzz', 'fizz_buzz_scope', ag__.ConversionOptions(recursive=True, user_requested=True, optional_features=(), internal_convert_user_code=True)) as fizz_buzz_scope:\n",
      "\n",
      "    def get_state():\n",
      "      return ()\n",
      "\n",
      "    def set_state(_):\n",
      "      pass\n",
      "\n",
      "    def if_true():\n",
      "      print('FizzBuzz')\n",
      "      return ag__.match_staging_level(1, cond)\n",
      "\n",
      "    def if_false():\n",
      "      return ag__.match_staging_level(1, cond)\n",
      "    cond = ag__.and_(lambda : x % 3 == 0, lambda : x % 5 == 0)\n",
      "    ag__.if_stmt(cond, if_true, if_false, get_state, set_state, (), ())\n",
      "\n",
      "    def get_state_1():\n",
      "      return ()\n",
      "\n",
      "    def set_state_1(_):\n",
      "      pass\n",
      "\n",
      "    def if_true_1():\n",
      "      print('Fizz')\n",
      "      return ag__.match_staging_level(1, cond_1)\n",
      "\n",
      "    def if_false_1():\n",
      "      return ag__.match_staging_level(1, cond_1)\n",
      "    cond_1 = x % 3 == 0\n",
      "    ag__.if_stmt(cond_1, if_true_1, if_false_1, get_state_1, set_state_1, (), ())\n",
      "\n",
      "    def get_state_2():\n",
      "      return ()\n",
      "\n",
      "    def set_state_2(_):\n",
      "      pass\n",
      "\n",
      "    def if_true_2():\n",
      "      print('Buzz')\n",
      "      return ag__.match_staging_level(1, cond_2)\n",
      "\n",
      "    def if_false_2():\n",
      "      return ag__.match_staging_level(1, cond_2)\n",
      "    cond_2 = x % 5 == 0\n",
      "    ag__.if_stmt(cond_2, if_true_2, if_false_2, get_state_2, set_state_2, (), ())\n",
      "\n"
     ]
    }
   ],
   "source": [
    "@tf.function\n",
    "def fizz_buzz(x):\n",
    "    if x%3==0 and x%5==0:\n",
    "        print('FizzBuzz')\n",
    "    if x%3 == 0:\n",
    "        print('Fizz')\n",
    "    if x%5 == 0:\n",
    "        print('Buzz')\n",
    "print(tf.autograph.to_code(fizz_buzz.python_function))"
   ]
  },
  {
   "cell_type": "code",
   "execution_count": null,
   "metadata": {},
   "outputs": [],
   "source": []
  },
  {
   "cell_type": "code",
   "execution_count": null,
   "metadata": {},
   "outputs": [],
   "source": []
  }
 ],
 "metadata": {
  "kernelspec": {
   "display_name": "Python 3",
   "language": "python",
   "name": "python3"
  },
  "language_info": {
   "codemirror_mode": {
    "name": "ipython",
    "version": 3
   },
   "file_extension": ".py",
   "mimetype": "text/x-python",
   "name": "python",
   "nbconvert_exporter": "python",
   "pygments_lexer": "ipython3",
   "version": "3.7.9"
  }
 },
 "nbformat": 4,
 "nbformat_minor": 4
}
