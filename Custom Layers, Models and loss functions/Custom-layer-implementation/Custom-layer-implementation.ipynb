{
 "cells": [
  {
   "cell_type": "code",
   "execution_count": 1,
   "metadata": {},
   "outputs": [],
   "source": [
    "import tensorflow as tf\n",
    "import numpy as np\n",
    "import matplotlib.pyplot as plt\n",
    "import cv2"
   ]
  },
  {
   "cell_type": "code",
   "execution_count": 2,
   "metadata": {},
   "outputs": [],
   "source": [
    "from tensorflow.keras.datasets import fashion_mnist\n",
    "(x_train, y_train), (x_test, y_test) = fashion_mnist.load_data()\n",
    "x_train = x_train/255.0\n",
    "x_test = x_test/255.0\n"
   ]
  },
  {
   "cell_type": "code",
   "execution_count": 3,
   "metadata": {},
   "outputs": [],
   "source": [
    "from tensorflow.keras.layers import Layer\n",
    "class Simple_dense(Layer):\n",
    "    def __init__(self, units=32, activation=None): \n",
    "        super().__init__()\n",
    "        self.units = units\n",
    "        self.activation = tf.keras.layers.Activation(activation)\n",
    "    def build(self, input_shape): ## creates the state of the layer (weights) and runs when instance created\n",
    "        w_init = tf.random_normal_initializer()\n",
    "        self.w = tf.Variable(initial_value=w_init(shape=(input_shape[-1], self.units), dtype=tf.float32), trainable=True)\n",
    "        \n",
    "        b_init = tf.zeros_initializer()\n",
    "        self.b =  tf.Variable(initial_value=b_init(shape=(self.units,), dtype=tf.float32), trainable=True)\n",
    "        super().build(input_shape)\n",
    "        \n",
    "    def call(self, inputs): ## computes inputs to outputs\n",
    "        return self.activation(tf.matmul(inputs, self.w)+self.b)"
   ]
  },
  {
   "cell_type": "code",
   "execution_count": 4,
   "metadata": {},
   "outputs": [],
   "source": [
    "input_layer = tf.keras.layers.Input(shape=(28, 28,))\n",
    "x = tf.keras.layers.Flatten()(input_layer)\n",
    "x = Simple_dense(128, activation=\"relu\")(x)\n",
    "x = Simple_dense(10, activation=\"softmax\")(x)\n",
    "model = tf.keras.Model(input_layer, x)\n"
   ]
  },
  {
   "cell_type": "code",
   "execution_count": 5,
   "metadata": {},
   "outputs": [
    {
     "name": "stdout",
     "output_type": "stream",
     "text": [
      "Model: \"model\"\n",
      "_________________________________________________________________\n",
      "Layer (type)                 Output Shape              Param #   \n",
      "=================================================================\n",
      "input_1 (InputLayer)         [(None, 28, 28)]          0         \n",
      "_________________________________________________________________\n",
      "flatten (Flatten)            (None, 784)               0         \n",
      "_________________________________________________________________\n",
      "simple_dense (Simple_dense)  (None, 128)               100480    \n",
      "_________________________________________________________________\n",
      "simple_dense_1 (Simple_dense (None, 10)                1290      \n",
      "=================================================================\n",
      "Total params: 101,770\n",
      "Trainable params: 101,770\n",
      "Non-trainable params: 0\n",
      "_________________________________________________________________\n"
     ]
    }
   ],
   "source": [
    "model.summary()"
   ]
  },
  {
   "cell_type": "code",
   "execution_count": 6,
   "metadata": {},
   "outputs": [],
   "source": [
    "model.compile(optimizer=\"adam\", loss = 'sparse_categorical_crossentropy', metrics=[\"accuracy\"])"
   ]
  },
  {
   "cell_type": "code",
   "execution_count": 7,
   "metadata": {},
   "outputs": [
    {
     "name": "stdout",
     "output_type": "stream",
     "text": [
      "Train on 60000 samples, validate on 10000 samples\n",
      "Epoch 1/10\n",
      "60000/60000 [==============================] - 13s 219us/sample - loss: 0.4800 - accuracy: 0.8288 - val_loss: 0.4198 - val_accuracy: 0.8488\n",
      "Epoch 2/10\n",
      "60000/60000 [==============================] - 13s 209us/sample - loss: 0.3652 - accuracy: 0.8671 - val_loss: 0.3749 - val_accuracy: 0.8628\n",
      "Epoch 3/10\n",
      "60000/60000 [==============================] - 12s 196us/sample - loss: 0.3309 - accuracy: 0.8774 - val_loss: 0.3682 - val_accuracy: 0.8667\n",
      "Epoch 4/10\n",
      "60000/60000 [==============================] - 13s 212us/sample - loss: 0.3102 - accuracy: 0.8855 - val_loss: 0.3812 - val_accuracy: 0.8680\n",
      "Epoch 5/10\n",
      "60000/60000 [==============================] - 12s 208us/sample - loss: 0.2928 - accuracy: 0.8916 - val_loss: 0.3602 - val_accuracy: 0.8714\n",
      "Epoch 6/10\n",
      "60000/60000 [==============================] - 12s 203us/sample - loss: 0.2808 - accuracy: 0.8964 - val_loss: 0.3551 - val_accuracy: 0.8701\n",
      "Epoch 7/10\n",
      "60000/60000 [==============================] - 12s 207us/sample - loss: 0.2699 - accuracy: 0.8987 - val_loss: 0.3487 - val_accuracy: 0.8817\n",
      "Epoch 8/10\n",
      "60000/60000 [==============================] - 13s 209us/sample - loss: 0.2621 - accuracy: 0.9011 - val_loss: 0.3538 - val_accuracy: 0.8811\n",
      "Epoch 9/10\n",
      "60000/60000 [==============================] - 12s 204us/sample - loss: 0.2513 - accuracy: 0.9053 - val_loss: 0.3431 - val_accuracy: 0.8834\n",
      "Epoch 10/10\n",
      "60000/60000 [==============================] - 12s 202us/sample - loss: 0.2438 - accuracy: 0.9087 - val_loss: 0.3624 - val_accuracy: 0.8780\n"
     ]
    },
    {
     "data": {
      "text/plain": [
       "<tensorflow.python.keras.callbacks.History at 0x1a7b4f5f4c8>"
      ]
     },
     "execution_count": 7,
     "metadata": {},
     "output_type": "execute_result"
    }
   ],
   "source": [
    "model.fit(np.array(x_train[:,]), y_train, \n",
    "          validation_data=(np.array(x_test[:,]), y_test), \n",
    "          epochs=10, batch_size=8)"
   ]
  },
  {
   "cell_type": "code",
   "execution_count": null,
   "metadata": {},
   "outputs": [],
   "source": []
  }
 ],
 "metadata": {
  "kernelspec": {
   "display_name": "Python 3",
   "language": "python",
   "name": "python3"
  },
  "language_info": {
   "codemirror_mode": {
    "name": "ipython",
    "version": 3
   },
   "file_extension": ".py",
   "mimetype": "text/x-python",
   "name": "python",
   "nbconvert_exporter": "python",
   "pygments_lexer": "ipython3",
   "version": "3.7.9"
  }
 },
 "nbformat": 4,
 "nbformat_minor": 4
}
