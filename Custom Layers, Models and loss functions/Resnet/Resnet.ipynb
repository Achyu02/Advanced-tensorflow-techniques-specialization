{
 "cells": [
  {
   "cell_type": "code",
   "execution_count": 1,
   "metadata": {},
   "outputs": [],
   "source": [
    "import tensorflow as tf\n",
    "from tensorflow.keras.datasets import mnist\n",
    "import numpy as np"
   ]
  },
  {
   "cell_type": "code",
   "execution_count": 2,
   "metadata": {},
   "outputs": [],
   "source": [
    "from tensorflow.keras.layers import Layer\n",
    "class DenseResidual(Layer):\n",
    "    def __init__(self, units=32):\n",
    "        super().__init__()\n",
    "        self.dense = tf.keras.layers.Dense(units)\n",
    "        self.batch_norm = tf.keras.layers.BatchNormalization()\n",
    "        self.add = tf.keras.layers.Add()\n",
    "    def call(self, inputs):\n",
    "        x = inputs\n",
    "        for i in range(2):\n",
    "            x = self.dense(x)\n",
    "        x = self.batch_norm(x)\n",
    "        \n",
    "        return self.add([inputs, x])"
   ]
  },
  {
   "cell_type": "code",
   "execution_count": 3,
   "metadata": {},
   "outputs": [],
   "source": [
    "class ConvResidual(Layer):\n",
    "    def __init__(self, filters=64, kernal_size=3, activation=None):\n",
    "        super().__init__()\n",
    "        self.conv2d = tf.keras.layers.Conv2D(filters, kernal_size, padding='same', activation=activation)\n",
    "        self.batch_norm = tf.keras.layers.BatchNormalization()\n",
    "        self.add = tf.keras.layers.Add()\n",
    "    def call(self, inputs):\n",
    "        x = inputs\n",
    "        for i in range(2):\n",
    "            x = self.conv2d(x)\n",
    "        x = self.batch_norm(x)\n",
    "        return self.add([inputs, x])"
   ]
  },
  {
   "cell_type": "code",
   "execution_count": null,
   "metadata": {},
   "outputs": [],
   "source": []
  },
  {
   "cell_type": "code",
   "execution_count": 4,
   "metadata": {},
   "outputs": [],
   "source": [
    "class Resnet(tf.keras.Model):\n",
    "    def __init__(self, num_of_classes=10):\n",
    "        super(Resnet, self).__init__()\n",
    "        self.input1 = tf.keras.layers.InputLayer(input_shape=(28, 28,1))\n",
    "        self.dense1 = tf.keras.layers.Dense(32)\n",
    "        self.convresidual = ConvResidual(32, 3, 'relu')\n",
    "        self.denseresidual = DenseResidual(32)\n",
    "        self.global_pool = tf.keras.layers.GlobalAveragePooling2D()\n",
    "        self.dense2 = tf.keras.layers.Dense(num_of_classes, activation=\"softmax\")\n",
    "    def call(self, inputs, training=False):\n",
    "        x = self.input1(inputs)\n",
    "        x = self.dense1(x)\n",
    "        x = self.convresidual(x)\n",
    "        for i in range(3):\n",
    "            x = self.denseresidual(x)\n",
    "        x = self.global_pool(x)\n",
    "        x = self.dense2(x)\n",
    "        return x"
   ]
  },
  {
   "cell_type": "code",
   "execution_count": 5,
   "metadata": {},
   "outputs": [],
   "source": [
    "resnet = Resnet(10)\n"
   ]
  },
  {
   "cell_type": "code",
   "execution_count": 7,
   "metadata": {},
   "outputs": [
    {
     "name": "stdout",
     "output_type": "stream",
     "text": [
      "Model: \"resnet\"\n",
      "_________________________________________________________________\n",
      "Layer (type)                 Output Shape              Param #   \n",
      "=================================================================\n",
      "input_1 (InputLayer)         [(None, 28, 28, 1)]       0         \n",
      "_________________________________________________________________\n",
      "dense (Dense)                multiple                  128       \n",
      "_________________________________________________________________\n",
      "conv_residual (ConvResidual) multiple                  9376      \n",
      "_________________________________________________________________\n",
      "dense_residual (DenseResidua multiple                  1184      \n",
      "_________________________________________________________________\n",
      "global_average_pooling2d (Gl multiple                  0         \n",
      "_________________________________________________________________\n",
      "dense_2 (Dense)              multiple                  330       \n",
      "=================================================================\n",
      "Total params: 11,018\n",
      "Trainable params: 10,890\n",
      "Non-trainable params: 128\n",
      "_________________________________________________________________\n"
     ]
    }
   ],
   "source": [
    "# p = resnet(np.expand_dims(tf.zeros([1, 2, 3]),0))\n",
    "# resnet.summary()"
   ]
  },
  {
   "cell_type": "code",
   "execution_count": 6,
   "metadata": {},
   "outputs": [],
   "source": [
    "resnet.compile(optimizer=\"adam\", loss='sparse_categorical_crossentropy', metrics=['accuracy'])"
   ]
  },
  {
   "cell_type": "code",
   "execution_count": 7,
   "metadata": {},
   "outputs": [],
   "source": [
    "(x_train, y_train), (x_test, y_test)= mnist.load_data()\n",
    "x_train = x_train.astype('float32')/255.0\n",
    "x_test = x_test.astype('float32')/255.0\n",
    "y_train = y_train.astype('float32')\n",
    "y_test = y_test.astype('float32')\n"
   ]
  },
  {
   "cell_type": "code",
   "execution_count": 8,
   "metadata": {},
   "outputs": [
    {
     "name": "stdout",
     "output_type": "stream",
     "text": [
      "Train on 60000 samples, validate on 10000 samples\n",
      "Epoch 1/2\n",
      "60000/60000 [==============================] - 302s 5ms/sample - loss: 0.5352 - accuracy: 0.8503 - val_loss: 0.8142 - val_accuracy: 0.7181\n",
      "Epoch 2/2\n",
      "60000/60000 [==============================] - 332s 6ms/sample - loss: 0.1992 - accuracy: 0.9403 - val_loss: 0.8265 - val_accuracy: 0.7035\n"
     ]
    },
    {
     "data": {
      "text/plain": [
       "<tensorflow.python.keras.callbacks.History at 0x21eaa145208>"
      ]
     },
     "execution_count": 8,
     "metadata": {},
     "output_type": "execute_result"
    }
   ],
   "source": [
    "resnet.fit(np.expand_dims(np.array(x_train),-1), np.array(y_train), \n",
    "                validation_data=(np.expand_dims(np.array(x_test),-1), np.array(y_test)), \n",
    "                epochs=2, batch_size=32)"
   ]
  }
 ],
 "metadata": {
  "kernelspec": {
   "display_name": "Python 3",
   "language": "python",
   "name": "python3"
  },
  "language_info": {
   "codemirror_mode": {
    "name": "ipython",
    "version": 3
   },
   "file_extension": ".py",
   "mimetype": "text/x-python",
   "name": "python",
   "nbconvert_exporter": "python",
   "pygments_lexer": "ipython3",
   "version": "3.7.9"
  }
 },
 "nbformat": 4,
 "nbformat_minor": 4
}
