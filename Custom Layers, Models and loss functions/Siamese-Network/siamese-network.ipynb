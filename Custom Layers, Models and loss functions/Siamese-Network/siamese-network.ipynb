{
 "cells": [
  {
   "cell_type": "code",
   "execution_count": 1,
   "metadata": {},
   "outputs": [],
   "source": [
    "import tensorflow as tf\n",
    "import numpy as np\n",
    "import matplotlib.pyplot as plt\n",
    "import cv2\n",
    "import random\n",
    "from tensorflow.keras.datasets import fashion_mnist"
   ]
  },
  {
   "cell_type": "markdown",
   "metadata": {},
   "source": [
    "## Building data"
   ]
  },
  {
   "cell_type": "code",
   "execution_count": 2,
   "metadata": {},
   "outputs": [],
   "source": [
    "(train_images, train_labels), (test_images, test_labels) = fashion_mnist.load_data()\n",
    "train_images = train_images/255.0\n",
    "test_images = test_images/255.0\n"
   ]
  },
  {
   "cell_type": "code",
   "execution_count": 3,
   "metadata": {},
   "outputs": [],
   "source": [
    "# outputs 1 if the images are similar and 0 if they are different\n",
    "def create_pairs(images, labels):\n",
    "    paired_images = []\n",
    "    paired_labels = []\n",
    "    numclasses = len(np.unique(labels))\n",
    "    idx = [np.where(labels==i)[0]  for i in range((numclasses))]\n",
    "    for i in range(len(images)):\n",
    "        img = images[i]\n",
    "        img_label = labels[i]\n",
    "        \n",
    "        similar_img_idx = np.random.choice(idx[img_label])\n",
    "        similar_img = images[similar_img_idx]\n",
    "        paired_images.append([img, similar_img])\n",
    "        paired_labels.append([1])\n",
    "        \n",
    "        dissimilar_label = np.where(labels!=img_label)[0]\n",
    "        dissimilar_img_idx = np.random.choice(dissimilar_label)\n",
    "        dissimilar_img = images[dissimilar_img_idx]\n",
    "        paired_images.append([img, dissimilar_img])\n",
    "        paired_labels.append([0])\n",
    "    \n",
    "    return np.array(paired_images).astype('float32'), np.array(paired_labels).astype('float32')\n",
    "        "
   ]
  },
  {
   "cell_type": "code",
   "execution_count": 4,
   "metadata": {},
   "outputs": [],
   "source": [
    "pairedtrainX, pairedtrainY = create_pairs(train_images, train_labels)\n",
    "pairedtestX, pairedtestY = create_pairs(test_images, test_labels)"
   ]
  },
  {
   "cell_type": "code",
   "execution_count": 5,
   "metadata": {},
   "outputs": [],
   "source": [
    "def visualize_data(images, labels):\n",
    "    ix = random.randint(0, len(images)-1)\n",
    "    fig, (ax1, ax2) = plt.subplots(1, 2)\n",
    "    ax1.imshow(images[ix][0])\n",
    "    ax2.imshow(images[ix][1])\n",
    "    print(labels[ix])"
   ]
  },
  {
   "cell_type": "code",
   "execution_count": 6,
   "metadata": {},
   "outputs": [
    {
     "name": "stdout",
     "output_type": "stream",
     "text": [
      "[1.]\n"
     ]
    },
    {
     "data": {
      "image/png": "[encoded data removed]",
      "text/plain": [
       "<Figure size 432x288 with 2 Axes>"
      ]
     },
     "metadata": {
      "needs_background": "light"
     },
     "output_type": "display_data"
    }
   ],
   "source": [
    "visualize_data(pairedtrainX, pairedtrainY)"
   ]
  },
  {
   "cell_type": "code",
   "execution_count": 7,
   "metadata": {},
   "outputs": [
    {
     "name": "stdout",
     "output_type": "stream",
     "text": [
      "[1.]\n"
     ]
    },
    {
     "data": {
      "image/png": "[encoded data removed]",
      "text/plain": [
       "<Figure size 432x288 with 2 Axes>"
      ]
     },
     "metadata": {
      "needs_background": "light"
     },
     "output_type": "display_data"
    }
   ],
   "source": [
    "visualize_data(pairedtestX, pairedtestY)"
   ]
  },
  {
   "cell_type": "markdown",
   "metadata": {},
   "source": [
    "## Building Siamese Network"
   ]
  },
  {
   "cell_type": "code",
   "execution_count": 8,
   "metadata": {},
   "outputs": [],
   "source": [
    "def initialize_base_network():\n",
    "    input_layer = tf.keras.layers.Input(shape=(28, 28, ))\n",
    "    x = tf.keras.layers.Flatten()(input_layer)\n",
    "    x = tf.keras.layers.Dense(128, activation='relu')(x)\n",
    "    x = tf.keras.layers.BatchNormalization()(x)\n",
    "    \n",
    "    x = tf.keras.layers.Dense(128, activation='relu')(x)\n",
    "    x = tf.keras.layers.BatchNormalization()(x)\n",
    "    \n",
    "    x = tf.keras.layers.Dense(128, activation='relu')(x)\n",
    "\n",
    "    model = tf.keras.Model(input_layer, x)\n",
    "    return model\n",
    "    "
   ]
  },
  {
   "cell_type": "code",
   "execution_count": 9,
   "metadata": {},
   "outputs": [],
   "source": [
    "import tensorflow.keras.backend as K\n",
    "def euclidean_distance(vects):\n",
    "    x, y = vects\n",
    "    diff = K.mean(K.square(x-y), axis=1, keepdims=True)\n",
    "    return K.sqrt(K.maximum(diff, K.epsilon()))\n",
    "    "
   ]
  },
  {
   "cell_type": "code",
   "execution_count": 10,
   "metadata": {},
   "outputs": [],
   "source": [
    "def eucl_dist_output_shape(shapes):\n",
    "    x, y = shapes\n",
    "    return (x[0], 1)"
   ]
  },
  {
   "cell_type": "code",
   "execution_count": 11,
   "metadata": {},
   "outputs": [],
   "source": [
    "siamese_network = initialize_base_network()\n",
    "input_a = tf.keras.layers.Input(shape=(28, 28,))\n",
    "vect_a = siamese_network(input_a)\n",
    "\n",
    "input_b = tf.keras.layers.Input(shape=(28, 28,))\n",
    "vect_b = siamese_network(input_b)\n",
    "\n",
    "output_dist = tf.keras.layers.Lambda(euclidean_distance, output_shape=eucl_dist_output_shape)([vect_a, vect_b])"
   ]
  },
  {
   "cell_type": "code",
   "execution_count": 12,
   "metadata": {},
   "outputs": [],
   "source": [
    "output = tf.keras.layers.Dense(1, activation=\"sigmoid\")(output_dist)\n",
    "model = tf.keras.Model([input_a, input_b], output)"
   ]
  },
  {
   "cell_type": "code",
   "execution_count": 13,
   "metadata": {},
   "outputs": [
    {
     "name": "stdout",
     "output_type": "stream",
     "text": [
      "Model: \"model_1\"\n",
      "__________________________________________________________________________________________________\n",
      "Layer (type)                    Output Shape         Param #     Connected to                     \n",
      "==================================================================================================\n",
      "input_2 (InputLayer)            [(None, 28, 28)]     0                                            \n",
      "__________________________________________________________________________________________________\n",
      "input_3 (InputLayer)            [(None, 28, 28)]     0                                            \n",
      "__________________________________________________________________________________________________\n",
      "model (Model)                   (None, 128)          134528      input_2[0][0]                    \n",
      "                                                                 input_3[0][0]                    \n",
      "__________________________________________________________________________________________________\n",
      "lambda (Lambda)                 (None, 1)            0           model[1][0]                      \n",
      "                                                                 model[2][0]                      \n",
      "__________________________________________________________________________________________________\n",
      "dense_3 (Dense)                 (None, 1)            2           lambda[0][0]                     \n",
      "==================================================================================================\n",
      "Total params: 134,530\n",
      "Trainable params: 134,018\n",
      "Non-trainable params: 512\n",
      "__________________________________________________________________________________________________\n"
     ]
    }
   ],
   "source": [
    "model.summary()"
   ]
  },
  {
   "cell_type": "code",
   "execution_count": 14,
   "metadata": {},
   "outputs": [],
   "source": [
    "## Custom loss function\n",
    "def contrastive_loss_with_threshold(threshold=1):\n",
    "    def contrastive_loss(y_true, y_pred):\n",
    "        square_pred = K.square(y_pred)\n",
    "        margin_square = K.square(K.maximum(threshold-y_pred, 0))\n",
    "        return K.mean(y_true*square_pred + (1-y_true)*margin_square)\n",
    "    return contrastive_loss"
   ]
  },
  {
   "cell_type": "code",
   "execution_count": 15,
   "metadata": {},
   "outputs": [],
   "source": [
    "## custom loss function using class\n",
    "from tensorflow.keras.losses import Loss\n",
    "class contrastive_loss_with_threshold(Loss):\n",
    "    threshold = 1\n",
    "    def __init__(self, threshold=1):\n",
    "        super().__init__()\n",
    "        self.threshold = threshold\n",
    "    def call(self, y_true, y_pred):\n",
    "        square_pred = K.square(y_pred)\n",
    "        margin_square = K.square(K.maximum(self.threshold-y_pred, 0))\n",
    "        return K.mean(y_true*square_pred + (1-y_true)*margin_square)"
   ]
  },
  {
   "cell_type": "code",
   "execution_count": 16,
   "metadata": {},
   "outputs": [],
   "source": [
    "model.compile(loss=contrastive_loss_with_threshold(threshold=1), optimizer=\"adam\")"
   ]
  },
  {
   "cell_type": "code",
   "execution_count": null,
   "metadata": {},
   "outputs": [],
   "source": []
  },
  {
   "cell_type": "code",
   "execution_count": 17,
   "metadata": {},
   "outputs": [
    {
     "name": "stdout",
     "output_type": "stream",
     "text": [
      "Train on 120000 samples, validate on 20000 samples\n",
      "Epoch 1/10\n",
      "120000/120000 [==============================] - 38s 319us/sample - loss: 0.2508 - val_loss: 0.2500\n",
      "Epoch 2/10\n",
      "120000/120000 [==============================] - 36s 303us/sample - loss: 0.2500 - val_loss: 0.2500\n",
      "Epoch 3/10\n",
      "120000/120000 [==============================] - 36s 303us/sample - loss: 0.2500 - val_loss: 0.2500\n",
      "Epoch 4/10\n",
      "120000/120000 [==============================] - 37s 304us/sample - loss: 0.1446 - val_loss: 0.0945\n",
      "Epoch 5/10\n",
      "120000/120000 [==============================] - 36s 303us/sample - loss: 0.0942 - val_loss: 0.0842\n",
      "Epoch 6/10\n",
      "120000/120000 [==============================] - 37s 305us/sample - loss: 0.0825 - val_loss: 0.0805\n",
      "Epoch 7/10\n",
      "120000/120000 [==============================] - 37s 306us/sample - loss: 0.0774 - val_loss: 0.0778\n",
      "Epoch 8/10\n",
      "120000/120000 [==============================] - 37s 307us/sample - loss: 0.0731 - val_loss: 0.0813\n",
      "Epoch 9/10\n",
      "120000/120000 [==============================] - 36s 303us/sample - loss: 0.0715 - val_loss: 0.0845\n",
      "Epoch 10/10\n",
      "120000/120000 [==============================] - 37s 304us/sample - loss: 0.0703 - val_loss: 0.0799\n"
     ]
    },
    {
     "data": {
      "text/plain": [
       "<tensorflow.python.keras.callbacks.History at 0x29e30c5f508>"
      ]
     },
     "execution_count": 17,
     "metadata": {},
     "output_type": "execute_result"
    }
   ],
   "source": [
    "model.fit([pairedtrainX[:, 0], pairedtrainX[:, 1]], pairedtrainY[:], \n",
    "          validation_data=([pairedtestX[:, 0], pairedtestX[:, 1]], pairedtestY[:]),\n",
    "          batch_size=8, \n",
    "          epochs=10)"
   ]
  },
  {
   "cell_type": "markdown",
   "metadata": {},
   "source": [
    "## Visualizing the predictions"
   ]
  },
  {
   "cell_type": "code",
   "execution_count": 37,
   "metadata": {},
   "outputs": [],
   "source": [
    "def predict_data(images, labels):\n",
    "    ix = random.randint(0, len(images)-1)\n",
    "    fig, (ax1, ax2) = plt.subplots(1, 2)\n",
    "    pred = model.predict([np.expand_dims(images[ix][0], 0), np.expand_dims(images[ix][1], 0)])\n",
    "    ax1.imshow(images[ix][0])\n",
    "    ax2.imshow(images[ix][1])\n",
    "    if pred[0][0]>0.5: # High distance more dissimilar\n",
    "        print(\"dissimilar\")\n",
    "    if pred[0][0]<0.5: # low distance more similar\n",
    "        print(\"similar\")\n",
    "#     print(pred[0], labels[ix])"
   ]
  },
  {
   "cell_type": "code",
   "execution_count": 42,
   "metadata": {},
   "outputs": [
    {
     "name": "stdout",
     "output_type": "stream",
     "text": [
      "dissimilar\n"
     ]
    },
    {
     "data": {
      "image/png": "[encoded data removed]",
      "text/plain": [
       "<Figure size 432x288 with 2 Axes>"
      ]
     },
     "metadata": {
      "needs_background": "light"
     },
     "output_type": "display_data"
    }
   ],
   "source": [
    "## For similar images the distance will be small but for dissimilar images distance will be high\n",
    "predict_data(pairedtrainX, pairedtrainY)"
   ]
  },
  {
   "cell_type": "code",
   "execution_count": null,
   "metadata": {},
   "outputs": [],
   "source": []
  }
 ],
 "metadata": {
  "kernelspec": {
   "display_name": "Python 3",
   "language": "python",
   "name": "python3"
  },
  "language_info": {
   "codemirror_mode": {
    "name": "ipython",
    "version": 3
   },
   "file_extension": ".py",
   "mimetype": "text/x-python",
   "name": "python",
   "nbconvert_exporter": "python",
   "pygments_lexer": "ipython3",
   "version": "3.7.9"
  }
 },
 "nbformat": 4,
 "nbformat_minor": 4
}
