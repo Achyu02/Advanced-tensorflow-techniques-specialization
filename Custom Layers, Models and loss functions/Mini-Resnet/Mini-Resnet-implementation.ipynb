{
 "cells": [
  {
   "cell_type": "code",
   "execution_count": 1,
   "metadata": {},
   "outputs": [],
   "source": [
    "import tensorflow as tf\n",
    "from tensorflow.keras.layers import Layer\n",
    "import numpy as np"
   ]
  },
  {
   "cell_type": "code",
   "execution_count": 2,
   "metadata": {},
   "outputs": [],
   "source": [
    "class IdentityBlock(tf.keras.Model):\n",
    "    def __init__(self, filters=32,kernal_size=3):\n",
    "        super(IdentityBlock, self).__init__()\n",
    "        self.conv1 = tf.keras.layers.Conv2D(filters, kernal_size, padding='same')\n",
    "        self.batch_norm = tf.keras.layers.BatchNormalization()\n",
    "        \n",
    "        self.conv2 = tf.keras.layers.Conv2D(filters, kernal_size, padding='same')\n",
    "        self.add = tf.keras.layers.Add()\n",
    "        \n",
    "        self.activation = tf.keras.layers.Activation('relu')\n",
    "        \n",
    "    def call(self, inputs):\n",
    "        x = self.conv1(inputs)\n",
    "        x = self.batch_norm(x)\n",
    "        \n",
    "        x = self.activation(x)\n",
    "        x = self.conv2(x)\n",
    "        x = self.batch_norm(x)\n",
    "        x = self.add([x, inputs])\n",
    "        x = self.activation(x)\n",
    "        return x"
   ]
  },
  {
   "cell_type": "code",
   "execution_count": 3,
   "metadata": {},
   "outputs": [],
   "source": [
    "class MiniResnet(tf.keras.Model):\n",
    "    def __init__(self, num_of_classes):\n",
    "        super(MiniResnet, self).__init__()\n",
    "        self.conv = tf.keras.layers.Conv2D(64,7, padding=\"same\", input_shape=(28,28,1))\n",
    "        self.norm = tf.keras.layers.BatchNormalization()\n",
    "        self.act = tf.keras.layers.Activation('relu')\n",
    "        self.max_pool = tf.keras.layers.MaxPool2D((3, 3))\n",
    "        \n",
    "        self.block1 = IdentityBlock(64, 3)\n",
    "        self.block2 = IdentityBlock(64, 3)\n",
    "        \n",
    "        self.global_pool = tf.keras.layers.GlobalAveragePooling2D()\n",
    "        self.classifier = tf.keras.layers.Dense(num_of_classes, activation=\"softmax\")\n",
    "    \n",
    "    def call(self, inputs):\n",
    "        x = self.conv(inputs)\n",
    "        x = self.norm(x)\n",
    "        x = self.act(x)\n",
    "        x = self.max_pool(x)\n",
    "        x = self.block1(x)\n",
    "        x = self.block2(x)\n",
    "        x = self.global_pool(x)\n",
    "        x = self.classifier(x)\n",
    "        return x\n",
    "        "
   ]
  },
  {
   "cell_type": "code",
   "execution_count": 4,
   "metadata": {},
   "outputs": [],
   "source": [
    "mini_resnet = MiniResnet(10)\n",
    "mini_resnet.compile(optimizer=\"adam\", loss='sparse_categorical_crossentropy', metrics=['accuracy'])"
   ]
  },
  {
   "cell_type": "code",
   "execution_count": 5,
   "metadata": {},
   "outputs": [],
   "source": [
    "from tensorflow.keras.datasets import mnist\n",
    "(x_train, y_train), (x_test, y_test)= mnist.load_data()"
   ]
  },
  {
   "cell_type": "code",
   "execution_count": 6,
   "metadata": {},
   "outputs": [],
   "source": [
    "x_train = x_train.astype('float32')/255.0\n",
    "x_test = x_test.astype('float32')/255.0\n",
    "y_train = y_train.astype('float32')\n",
    "y_test = y_test.astype('float32')"
   ]
  },
  {
   "cell_type": "code",
   "execution_count": 7,
   "metadata": {},
   "outputs": [
    {
     "name": "stdout",
     "output_type": "stream",
     "text": [
      "Train on 60000 samples, validate on 10000 samples\n",
      "Epoch 1/2\n",
      "60000/60000 [==============================] - 207s 3ms/sample - loss: 0.1359 - accuracy: 0.9644 - val_loss: 4.7000 - val_accuracy: 0.3133\n",
      "Epoch 2/2\n",
      "60000/60000 [==============================] - 203s 3ms/sample - loss: 0.0506 - accuracy: 0.9847 - val_loss: 2.4312 - val_accuracy: 0.4094\n"
     ]
    },
    {
     "data": {
      "text/plain": [
       "<tensorflow.python.keras.callbacks.History at 0x1449e0b5a48>"
      ]
     },
     "execution_count": 7,
     "metadata": {},
     "output_type": "execute_result"
    }
   ],
   "source": [
    "mini_resnet.fit(np.expand_dims(np.array(x_train),-1), np.array(y_train), \n",
    "                validation_data=(np.expand_dims(np.array(x_test),-1), np.array(y_test)), \n",
    "                epochs=2, batch_size=32)"
   ]
  },
  {
   "cell_type": "code",
   "execution_count": null,
   "metadata": {},
   "outputs": [],
   "source": []
  }
 ],
 "metadata": {
  "kernelspec": {
   "display_name": "Python 3",
   "language": "python",
   "name": "python3"
  },
  "language_info": {
   "codemirror_mode": {
    "name": "ipython",
    "version": 3
   },
   "file_extension": ".py",
   "mimetype": "text/x-python",
   "name": "python",
   "nbconvert_exporter": "python",
   "pygments_lexer": "ipython3",
   "version": "3.7.9"
  }
 },
 "nbformat": 4,
 "nbformat_minor": 4
}
