{
 "cells": [
  {
   "cell_type": "code",
   "execution_count": 3,
   "metadata": {},
   "outputs": [],
   "source": [
    "import tensorflow as tf\n",
    "import tqdm\n",
    "import numpy as np\n",
    "import matplotlib.pyplot as plt\n",
    "import random\n",
    "import tensorflow_datasets as tfds"
   ]
  },
  {
   "cell_type": "code",
   "execution_count": 1,
   "metadata": {},
   "outputs": [
    {
     "name": "stdout",
     "output_type": "stream",
     "text": [
      "Requirement already satisfied: tensorflow_datasets in c:\\users\\admin\\anaconda3\\envs\\tfcpu\\lib\\site-packages (4.2.0)\n",
      "Requirement already satisfied: typing-extensions in c:\\users\\admin\\anaconda3\\envs\\tfcpu\\lib\\site-packages (from tensorflow_datasets) (3.7.4.3)\n",
      "Requirement already satisfied: future in c:\\users\\admin\\anaconda3\\envs\\tfcpu\\lib\\site-packages (from tensorflow_datasets) (0.18.2)\n",
      "Requirement already satisfied: promise in c:\\users\\admin\\anaconda3\\envs\\tfcpu\\lib\\site-packages (from tensorflow_datasets) (2.3)\n",
      "Requirement already satisfied: tqdm in c:\\users\\admin\\anaconda3\\envs\\tfcpu\\lib\\site-packages (from tensorflow_datasets) (4.54.1)\n",
      "Requirement already satisfied: protobuf>=3.12.2 in c:\\users\\admin\\anaconda3\\envs\\tfcpu\\lib\\site-packages (from tensorflow_datasets) (3.13.0)\n",
      "Requirement already satisfied: numpy in c:\\users\\admin\\anaconda3\\envs\\tfcpu\\lib\\site-packages (from tensorflow_datasets) (1.19.2)\n",
      "Requirement already satisfied: absl-py in c:\\users\\admin\\anaconda3\\envs\\tfcpu\\lib\\site-packages (from tensorflow_datasets) (0.10.0)\n",
      "Requirement already satisfied: attrs>=18.1.0 in c:\\users\\admin\\anaconda3\\envs\\tfcpu\\lib\\site-packages (from tensorflow_datasets) (20.3.0)\n",
      "Requirement already satisfied: importlib-resources in c:\\users\\admin\\anaconda3\\envs\\tfcpu\\lib\\site-packages (from tensorflow_datasets) (5.1.0)\n",
      "Requirement already satisfied: tensorflow-metadata in c:\\users\\admin\\anaconda3\\envs\\tfcpu\\lib\\site-packages (from tensorflow_datasets) (0.28.0)\n",
      "Requirement already satisfied: six in c:\\users\\admin\\anaconda3\\envs\\tfcpu\\lib\\site-packages (from tensorflow_datasets) (1.15.0)\n",
      "Requirement already satisfied: dill in c:\\users\\admin\\anaconda3\\envs\\tfcpu\\lib\\site-packages (from tensorflow_datasets) (0.3.3)\n",
      "Requirement already satisfied: requests>=2.19.0 in c:\\users\\admin\\anaconda3\\envs\\tfcpu\\lib\\site-packages (from tensorflow_datasets) (2.25.0)\n",
      "Requirement already satisfied: termcolor in c:\\users\\admin\\anaconda3\\envs\\tfcpu\\lib\\site-packages (from tensorflow_datasets) (1.1.0)\n",
      "Requirement already satisfied: six in c:\\users\\admin\\anaconda3\\envs\\tfcpu\\lib\\site-packages (from tensorflow_datasets) (1.15.0)\n",
      "Requirement already satisfied: zipp>=0.4 in c:\\users\\admin\\anaconda3\\envs\\tfcpu\\lib\\site-packages (from importlib-resources->tensorflow_datasets) (3.4.0)\n",
      "Requirement already satisfied: six in c:\\users\\admin\\anaconda3\\envs\\tfcpu\\lib\\site-packages (from tensorflow_datasets) (1.15.0)\n",
      "Requirement already satisfied: six in c:\\users\\admin\\anaconda3\\envs\\tfcpu\\lib\\site-packages (from tensorflow_datasets) (1.15.0)\n",
      "Requirement already satisfied: setuptools in c:\\users\\admin\\anaconda3\\envs\\tfcpu\\lib\\site-packages (from protobuf>=3.12.2->tensorflow_datasets) (51.0.0.post20201207)\n",
      "Requirement already satisfied: idna<3,>=2.5 in c:\\users\\admin\\anaconda3\\envs\\tfcpu\\lib\\site-packages (from requests>=2.19.0->tensorflow_datasets) (2.10)\n",
      "Requirement already satisfied: certifi>=2017.4.17 in c:\\users\\admin\\anaconda3\\envs\\tfcpu\\lib\\site-packages (from requests>=2.19.0->tensorflow_datasets) (2020.12.5)\n",
      "Requirement already satisfied: chardet<4,>=3.0.2 in c:\\users\\admin\\anaconda3\\envs\\tfcpu\\lib\\site-packages (from requests>=2.19.0->tensorflow_datasets) (3.0.4)\n",
      "Requirement already satisfied: urllib3<1.27,>=1.21.1 in c:\\users\\admin\\anaconda3\\envs\\tfcpu\\lib\\site-packages (from requests>=2.19.0->tensorflow_datasets) (1.26.2)\n",
      "Requirement already satisfied: googleapis-common-protos<2,>=1.52.0 in c:\\users\\admin\\anaconda3\\envs\\tfcpu\\lib\\site-packages (from tensorflow-metadata->tensorflow_datasets) (1.52.0)\n",
      "Requirement already satisfied: absl-py in c:\\users\\admin\\anaconda3\\envs\\tfcpu\\lib\\site-packages (from tensorflow_datasets) (0.10.0)\n",
      "Requirement already satisfied: protobuf>=3.12.2 in c:\\users\\admin\\anaconda3\\envs\\tfcpu\\lib\\site-packages (from tensorflow_datasets) (3.13.0)\n",
      "Requirement already satisfied: protobuf>=3.12.2 in c:\\users\\admin\\anaconda3\\envs\\tfcpu\\lib\\site-packages (from tensorflow_datasets) (3.13.0)\n"
     ]
    }
   ],
   "source": [
    "!pip install tensorflow_datasets"
   ]
  },
  {
   "cell_type": "code",
   "execution_count": 4,
   "metadata": {},
   "outputs": [],
   "source": [
    "mnist_train_data, info = tfds.load('fashion_mnist', split='train', with_info=True)\n",
    "mnist_test_data = tfds.load('fashion_mnist', split='test')"
   ]
  },
  {
   "cell_type": "code",
   "execution_count": 5,
   "metadata": {},
   "outputs": [
    {
     "data": {
      "text/plain": [
       "<PrefetchDataset shapes: {image: (28, 28, 1), label: ()}, types: {image: tf.uint8, label: tf.int64}>"
      ]
     },
     "execution_count": 5,
     "metadata": {},
     "output_type": "execute_result"
    }
   ],
   "source": [
    "mnist_test_data"
   ]
  },
  {
   "cell_type": "code",
   "execution_count": 6,
   "metadata": {},
   "outputs": [],
   "source": [
    "class_names = ['T-shirt/top', 'Trouser', 'Pullover', 'Dress', 'Coat', 'Sandal', 'Shirt', 'Sneaker', 'Bag', 'Ankle boot']"
   ]
  },
  {
   "cell_type": "code",
   "execution_count": 7,
   "metadata": {},
   "outputs": [],
   "source": [
    "p = list(mnist_test_data)"
   ]
  },
  {
   "cell_type": "code",
   "execution_count": 8,
   "metadata": {},
   "outputs": [
    {
     "name": "stdout",
     "output_type": "stream",
     "text": [
      "Bag\n"
     ]
    },
    {
     "data": {
      "image/png": "[encoded data removed]",
      "text/plain": [
       "<Figure size 432x288 with 1 Axes>"
      ]
     },
     "metadata": {
      "needs_background": "light"
     },
     "output_type": "display_data"
    }
   ],
   "source": [
    "ix = random.randint(0, len(p)-1)\n",
    "plt.imshow(np.reshape(p[ix]['image'], (28, 28)))\n",
    "print(class_names[p[ix]['label'].numpy()])"
   ]
  },
  {
   "cell_type": "code",
   "execution_count": 9,
   "metadata": {},
   "outputs": [],
   "source": [
    "def format_image(data):\n",
    "    image = data['image']\n",
    "    image = tf.reshape(image, [-1]) ## reshaping to 784\n",
    "    image = tf.cast(image, 'float32')\n",
    "    image = image/255.0\n",
    "    return image, data['label']"
   ]
  },
  {
   "cell_type": "code",
   "execution_count": 10,
   "metadata": {},
   "outputs": [],
   "source": [
    "train_preprocessed_data = mnist_train_data.map(format_image)\n",
    "test_preprocessed_data = mnist_test_data.map(format_image)"
   ]
  },
  {
   "cell_type": "code",
   "execution_count": null,
   "metadata": {},
   "outputs": [],
   "source": []
  },
  {
   "cell_type": "code",
   "execution_count": 11,
   "metadata": {},
   "outputs": [],
   "source": [
    "batch_size = 64\n",
    "train_data = train_preprocessed_data.shuffle(buffer_size=1024).batch(batch_size)\n",
    "test_data = test_preprocessed_data.batch(batch_size)"
   ]
  },
  {
   "cell_type": "code",
   "execution_count": 12,
   "metadata": {},
   "outputs": [],
   "source": [
    "train_metrics = tf.keras.metrics.SparseCategoricalAccuracy()\n",
    "val_metrics = tf.keras.metrics.SparseCategoricalAccuracy()\n",
    "\n",
    "loss_object = tf.keras.losses.SparseCategoricalCrossentropy()\n"
   ]
  },
  {
   "cell_type": "code",
   "execution_count": 13,
   "metadata": {},
   "outputs": [],
   "source": [
    "optimizer = tf.keras.optimizers.Adam()"
   ]
  },
  {
   "cell_type": "code",
   "execution_count": 14,
   "metadata": {},
   "outputs": [],
   "source": [
    "def baseline_model():\n",
    "    model = tf.keras.Sequential([\n",
    "        tf.keras.Input(shape=(784,), name='digits'),\n",
    "        tf.keras.layers.Dense(32, activation='relu', name='dense1'),\n",
    "        tf.keras.layers.Dense(64, activation='relu', name='dense2'),\n",
    "        tf.keras.layers.Dense(64, activation='relu', name='dense3'),\n",
    "        tf.keras.layers.Dense(10, activation='softmax', name='output')\n",
    "    ])\n",
    "    return model"
   ]
  },
  {
   "cell_type": "code",
   "execution_count": 15,
   "metadata": {},
   "outputs": [],
   "source": [
    "model = baseline_model()"
   ]
  },
  {
   "cell_type": "code",
   "execution_count": 16,
   "metadata": {},
   "outputs": [
    {
     "name": "stdout",
     "output_type": "stream",
     "text": [
      "Model: \"sequential\"\n",
      "_________________________________________________________________\n",
      "Layer (type)                 Output Shape              Param #   \n",
      "=================================================================\n",
      "dense1 (Dense)               (None, 32)                25120     \n",
      "_________________________________________________________________\n",
      "dense2 (Dense)               (None, 64)                2112      \n",
      "_________________________________________________________________\n",
      "dense3 (Dense)               (None, 64)                4160      \n",
      "_________________________________________________________________\n",
      "output (Dense)               (None, 10)                650       \n",
      "=================================================================\n",
      "Total params: 32,042\n",
      "Trainable params: 32,042\n",
      "Non-trainable params: 0\n",
      "_________________________________________________________________\n"
     ]
    }
   ],
   "source": [
    "model.summary()"
   ]
  },
  {
   "cell_type": "code",
   "execution_count": 17,
   "metadata": {},
   "outputs": [],
   "source": [
    "def apply_gradients(model, inputs, outputs):\n",
    "    with tf.GradientTape() as tape:\n",
    "        logits = model(inputs)\n",
    "        loss = loss_object(y_true=outputs, y_pred=logits)\n",
    "    gradients = tape.gradient(loss, model.trainable_weights)\n",
    "    optimizer.apply_gradients(zip(gradients, model.trainable_weights))\n",
    "    return logits, loss"
   ]
  },
  {
   "cell_type": "code",
   "execution_count": 18,
   "metadata": {},
   "outputs": [],
   "source": [
    "def train_on_epoch():\n",
    "    losses = []\n",
    "    for step, (x_train, y_train) in enumerate(train_data):\n",
    "        logits, loss = apply_gradients(model, x_train, y_train)\n",
    "        losses.append(loss)\n",
    "#         print(logits.dtype, y_train.dtype, 'train data')\n",
    "        train_metrics(y_train, logits)\n",
    "    return losses\n",
    "        "
   ]
  },
  {
   "cell_type": "code",
   "execution_count": 19,
   "metadata": {},
   "outputs": [],
   "source": [
    "def validation_on_epoch():\n",
    "    losses = []\n",
    "    for step, (x_train, y_train) in enumerate(test_data):\n",
    "#         print(x_train)\n",
    "#         print(y_train)\n",
    "        logits = model(x_train)\n",
    "#         print(logits.dtype, y_train.dtype, 'validation')\n",
    "        loss = loss_object(y_true=y_train, y_pred=logits)\n",
    "        losses.append(loss)\n",
    "        val_metrics(y_train, logits)\n",
    "    return losses\n"
   ]
  },
  {
   "cell_type": "code",
   "execution_count": 20,
   "metadata": {},
   "outputs": [
    {
     "name": "stdout",
     "output_type": "stream",
     "text": [
      "Epoch number  0  train loss =  0.55896986  train acc =  0.80256665 val loss =  0.44294286  val acc =  0.8463\n",
      "Epoch number  1  train loss =  0.4001809  train acc =  0.85606664 val loss =  0.40806466  val acc =  0.855\n",
      "Epoch number  2  train loss =  0.3623969  train acc =  0.86651665 val loss =  0.42830265  val acc =  0.8479\n",
      "Epoch number  3  train loss =  0.34032807  train acc =  0.8746667 val loss =  0.39608058  val acc =  0.8605\n",
      "Epoch number  4  train loss =  0.32484016  train acc =  0.8793 val loss =  0.37259996  val acc =  0.8675\n",
      "Epoch number  5  train loss =  0.3121917  train acc =  0.8844 val loss =  0.3696447  val acc =  0.8691\n",
      "Epoch number  6  train loss =  0.29995275  train acc =  0.8875833 val loss =  0.3904512  val acc =  0.8602\n",
      "Epoch number  7  train loss =  0.291381  train acc =  0.89038336 val loss =  0.34977818  val acc =  0.877\n",
      "Epoch number  8  train loss =  0.28140485  train acc =  0.8948 val loss =  0.37446716  val acc =  0.8716\n",
      "Epoch number  9  train loss =  0.27697578  train acc =  0.89665 val loss =  0.36224025  val acc =  0.874\n"
     ]
    }
   ],
   "source": [
    "train_losses = []\n",
    "test_losses = []\n",
    "for _ in range(10):\n",
    "    train_loss = train_on_epoch()\n",
    "    test_loss = validation_on_epoch()\n",
    "    train_losses.append(np.mean(train_loss))\n",
    "    test_losses.append(np.mean(test_loss))\n",
    "    print('Epoch number ', _, ' train loss = ', train_losses[-1], ' train acc = ', train_metrics.result().numpy(), \n",
    "          'val loss = ', test_losses[-1], ' val acc = ', val_metrics.result().numpy())\n",
    "    val_metrics.reset_states()\n",
    "    train_metrics.reset_states()\n",
    "    "
   ]
  },
  {
   "cell_type": "code",
   "execution_count": 21,
   "metadata": {},
   "outputs": [
    {
     "data": {
      "image/png": "[encoded data removed]",
      "text/plain": [
       "<Figure size 432x288 with 1 Axes>"
      ]
     },
     "metadata": {
      "needs_background": "light"
     },
     "output_type": "display_data"
    }
   ],
   "source": [
    "import matplotlib.ticker as mticker\n",
    "\n",
    "def plot_metrics(train_metric, val_metric, metric_name, title, ylim=5):\n",
    "    plt.title(title)\n",
    "    plt.ylim(0,ylim)\n",
    "    plt.gca().xaxis.set_major_locator(mticker.MultipleLocator(1))\n",
    "    plt.plot(train_metric,color='blue',label=metric_name)\n",
    "    plt.plot(val_metric,color='green',label='val_' + metric_name)\n",
    "\n",
    "plot_metrics(train_losses, test_losses, \"Loss\", \"Loss\", ylim=1.0)\n"
   ]
  },
  {
   "cell_type": "code",
   "execution_count": 22,
   "metadata": {},
   "outputs": [],
   "source": [
    "def display_images(image, predictions, labels, title, n):\n",
    "\n",
    "    display_strings = [str(i) + \"\\n\\n\" + str(j) for i, j in zip(predictions, labels)] \n",
    "\n",
    "    plt.figure(figsize=(17,3))\n",
    "    plt.title(title)\n",
    "    plt.yticks([])\n",
    "    plt.xticks([28*x+14 for x in range(n)], display_strings)\n",
    "    plt.grid(None)\n",
    "    image = np.reshape(image, [n, 28, 28])\n",
    "    image = np.swapaxes(image, 0, 1)\n",
    "    image = np.reshape(image, [28, 28*n])\n",
    "    plt.imshow(image)\n"
   ]
  },
  {
   "cell_type": "code",
   "execution_count": 24,
   "metadata": {},
   "outputs": [
    {
     "data": {
      "image/png": "[encoded data removed]",
      "text/plain": [
       "<Figure size 1224x216 with 1 Axes>"
      ]
     },
     "metadata": {
      "needs_background": "light"
     },
     "output_type": "display_data"
    }
   ],
   "source": [
    "test_inputs = test_preprocessed_data.batch(batch_size=1000001)\n",
    "x_batches, y_pred_batches, y_true_batches = [], [], []\n",
    "\n",
    "for x, y in (test_inputs):\n",
    "    y_pred = model(x)\n",
    "    y_pred_batches = y_pred.numpy()\n",
    "    y_true_batches = y.numpy()\n",
    "    x_batches = x.numpy()\n",
    "\n",
    "indexes = np.random.choice(len(y_pred_batches), size=10)\n",
    "images_to_plot = x_batches[indexes]\n",
    "y_pred_to_plot = y_pred_batches[indexes]\n",
    "y_true_to_plot = y_true_batches[indexes]\n",
    "\n",
    "y_pred_labels = [class_names[np.argmax(sel_y_pred)] for sel_y_pred in y_pred_to_plot]\n",
    "y_true_labels = [class_names[sel_y_true] for sel_y_true in y_true_to_plot]\n",
    "display_images(images_to_plot, y_pred_labels, y_true_labels, \"Predicted and True Values\", 10)"
   ]
  },
  {
   "cell_type": "code",
   "execution_count": null,
   "metadata": {},
   "outputs": [],
   "source": []
  },
  {
   "cell_type": "code",
   "execution_count": null,
   "metadata": {},
   "outputs": [],
   "source": []
  }
 ],
 "metadata": {
  "kernelspec": {
   "display_name": "Python 3",
   "language": "python",
   "name": "python3"
  },
  "language_info": {
   "codemirror_mode": {
    "name": "ipython",
    "version": 3
   },
   "file_extension": ".py",
   "mimetype": "text/x-python",
   "name": "python",
   "nbconvert_exporter": "python",
   "pygments_lexer": "ipython3",
   "version": "3.7.9"
  }
 },
 "nbformat": 4,
 "nbformat_minor": 4
}
